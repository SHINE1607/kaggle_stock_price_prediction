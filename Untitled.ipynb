{
 "cells": [
  {
   "cell_type": "code",
   "execution_count": 1,
   "metadata": {},
   "outputs": [],
   "source": [
    "import  numpy as np\n",
    "import pandas as pd \n",
    "import matplotlib.pyplot as plt\n",
    "import seaborn as sns "
   ]
  },
  {
   "cell_type": "markdown",
   "metadata": {},
   "source": [
    "# Reading the prices dataset"
   ]
  },
  {
   "cell_type": "code",
   "execution_count": 16,
   "metadata": {},
   "outputs": [],
   "source": [
    "df_prices = pd.read_csv(\"./dataset/prices.csv\")"
   ]
  },
  {
   "cell_type": "markdown",
   "metadata": {},
   "source": [
    "# Extracting the oracle prices from the prices"
   ]
  },
  {
   "cell_type": "code",
   "execution_count": 36,
   "metadata": {},
   "outputs": [],
   "source": [
    "df_oracle = df[df[\"symbol\"] == \"ORCL\"]"
   ]
  },
  {
   "cell_type": "code",
   "execution_count": 45,
   "metadata": {
    "collapsed": true
   },
   "outputs": [
    {
     "name": "stderr",
     "output_type": "stream",
     "text": [
      "C:\\Users\\LENOVO\\anaconda3\\lib\\site-packages\\ipykernel_launcher.py:3: SettingWithCopyWarning: \n",
      "A value is trying to be set on a copy of a slice from a DataFrame.\n",
      "Try using .loc[row_indexer,col_indexer] = value instead\n",
      "\n",
      "See the caveats in the documentation: https://pandas.pydata.org/pandas-docs/stable/user_guide/indexing.html#returning-a-view-versus-a-copy\n",
      "  This is separate from the ipykernel package so we can avoid doing imports until\n"
     ]
    }
   ],
   "source": [
    "df_oracle[\"date\"].max(), df_oracle[\"date\"].min()\n",
    "# tsring date  columns to date_time object\n",
    "df_oracle[\"date\"] = pd.to_datetime(df_oracle['date'])"
   ]
  },
  {
   "cell_type": "code",
   "execution_count": 37,
   "metadata": {},
   "outputs": [
    {
     "data": {
      "text/html": [
       "<div>\n",
       "<style scoped>\n",
       "    .dataframe tbody tr th:only-of-type {\n",
       "        vertical-align: middle;\n",
       "    }\n",
       "\n",
       "    .dataframe tbody tr th {\n",
       "        vertical-align: top;\n",
       "    }\n",
       "\n",
       "    .dataframe thead th {\n",
       "        text-align: right;\n",
       "    }\n",
       "</style>\n",
       "<table border=\"1\" class=\"dataframe\">\n",
       "  <thead>\n",
       "    <tr style=\"text-align: right;\">\n",
       "      <th></th>\n",
       "      <th>date</th>\n",
       "      <th>symbol</th>\n",
       "      <th>open</th>\n",
       "      <th>close</th>\n",
       "      <th>low</th>\n",
       "      <th>high</th>\n",
       "      <th>volume</th>\n",
       "    </tr>\n",
       "  </thead>\n",
       "  <tbody>\n",
       "    <tr>\n",
       "      <th>571</th>\n",
       "      <td>2010-01-04</td>\n",
       "      <td>ORCL</td>\n",
       "      <td>24.660000</td>\n",
       "      <td>24.850000</td>\n",
       "      <td>24.660000</td>\n",
       "      <td>25.190001</td>\n",
       "      <td>26795000.0</td>\n",
       "    </tr>\n",
       "    <tr>\n",
       "      <th>1039</th>\n",
       "      <td>2010-01-05</td>\n",
       "      <td>ORCL</td>\n",
       "      <td>24.719999</td>\n",
       "      <td>24.820000</td>\n",
       "      <td>24.350000</td>\n",
       "      <td>24.850000</td>\n",
       "      <td>28669900.0</td>\n",
       "    </tr>\n",
       "    <tr>\n",
       "      <th>1507</th>\n",
       "      <td>2010-01-06</td>\n",
       "      <td>ORCL</td>\n",
       "      <td>24.770000</td>\n",
       "      <td>24.459999</td>\n",
       "      <td>24.379999</td>\n",
       "      <td>24.920000</td>\n",
       "      <td>24560700.0</td>\n",
       "    </tr>\n",
       "    <tr>\n",
       "      <th>1975</th>\n",
       "      <td>2010-01-07</td>\n",
       "      <td>ORCL</td>\n",
       "      <td>24.459999</td>\n",
       "      <td>24.379999</td>\n",
       "      <td>24.080000</td>\n",
       "      <td>24.610001</td>\n",
       "      <td>30469700.0</td>\n",
       "    </tr>\n",
       "    <tr>\n",
       "      <th>2443</th>\n",
       "      <td>2010-01-08</td>\n",
       "      <td>ORCL</td>\n",
       "      <td>24.280001</td>\n",
       "      <td>24.680000</td>\n",
       "      <td>24.250000</td>\n",
       "      <td>24.750000</td>\n",
       "      <td>23542400.0</td>\n",
       "    </tr>\n",
       "  </tbody>\n",
       "</table>\n",
       "</div>"
      ],
      "text/plain": [
       "            date symbol       open      close        low       high  \\\n",
       "571   2010-01-04   ORCL  24.660000  24.850000  24.660000  25.190001   \n",
       "1039  2010-01-05   ORCL  24.719999  24.820000  24.350000  24.850000   \n",
       "1507  2010-01-06   ORCL  24.770000  24.459999  24.379999  24.920000   \n",
       "1975  2010-01-07   ORCL  24.459999  24.379999  24.080000  24.610001   \n",
       "2443  2010-01-08   ORCL  24.280001  24.680000  24.250000  24.750000   \n",
       "\n",
       "          volume  \n",
       "571   26795000.0  \n",
       "1039  28669900.0  \n",
       "1507  24560700.0  \n",
       "1975  30469700.0  \n",
       "2443  23542400.0  "
      ]
     },
     "execution_count": 37,
     "metadata": {},
     "output_type": "execute_result"
    }
   ],
   "source": [
    "df_oracle.head(5)"
   ]
  },
  {
   "cell_type": "markdown",
   "metadata": {},
   "source": [
    "# PLotting the closing stock prices"
   ]
  },
  {
   "cell_type": "code",
   "execution_count": 59,
   "metadata": {},
   "outputs": [
    {
     "data": {
      "text/plain": [
       "<matplotlib.axes._subplots.AxesSubplot at 0x282a4b01b08>"
      ]
     },
     "execution_count": 59,
     "metadata": {},
     "output_type": "execute_result"
    },
    {
     "data": {
      "image/png": "[encoded data removed]",
      "text/plain": [
       "<Figure size 432x288 with 1 Axes>"
      ]
     },
     "metadata": {
      "needs_background": "light"
     },
     "output_type": "display_data"
    }
   ],
   "source": [
    "sns.lineplot(x = df_oracle[\"date\"], y = df_oracle[\"close\"], palette=\"ch:2.5,.25\")"
   ]
  },
  {
   "cell_type": "markdown",
   "metadata": {},
   "source": [
    "# Data Preprocessing"
   ]
  },
  {
   "cell_type": "code",
   "execution_count": 60,
   "metadata": {},
   "outputs": [],
   "source": [
    "df_market = df_oracle[\"close\"]\n",
    "# Scaling  down the data to reduce the variance\n",
    "from sklearn.preprocessing import MinMaxScaler\n",
    "scaler = MinMaxScaler(feature_range = (0,1))\n",
    "df_market = scaler.fit_transform(np.array(df_market).reshape(-1, 1))"
   ]
  },
  {
   "cell_type": "markdown",
   "metadata": {},
   "source": [
    "# TRain test split"
   ]
  },
  {
   "cell_type": "code",
   "execution_count": 61,
   "metadata": {},
   "outputs": [],
   "source": [
    "# We are taking 70% of the iniial data as the trainin data\n",
    "# and rest of the data as the test size\n",
    "training_size =  int(len(df_market) * 0.7)\n",
    "test_size = len(df_market) - training_size\n",
    "train_data = df_market[0:training_size,  :]\n",
    "test_data = df_market[training_size :, :]"
   ]
  },
  {
   "cell_type": "code",
   "execution_count": 68,
   "metadata": {},
   "outputs": [
    {
     "data": {
      "text/plain": [
       "(1233, 529)"
      ]
     },
     "execution_count": 68,
     "metadata": {},
     "output_type": "execute_result"
    }
   ],
   "source": [
    "train_data.shape[0], test_data.shape[0]"
   ]
  },
  {
   "cell_type": "code",
   "execution_count": 62,
   "metadata": {},
   "outputs": [],
   "source": [
    "# timestep is the numbe of the independant features to predict in each step, \n",
    "# here we are taking as 100\n",
    "#for example ime setp of 3 days means that the prev 3 days will be the independant features for the prediction of preceeding one\n",
    "#the data will be trained in susch a way that prev 3 days will Xtrain and 4th day will y_train \n",
    "def create_dataset(dataset, timestep = 1):\n",
    "    dataX, dataY = [], []\n",
    "    for i in range(len(dataset) - timestep - 1):\n",
    "        a = dataset[i : (i + timestep), 0]\n",
    "        dataX.append(a) #X_train data \n",
    "        dataY.append(dataset[i + timestep, 0])  #y_train\n",
    "    return np.array(dataX), np.array(dataY)"
   ]
  },
  {
   "cell_type": "code",
   "execution_count": 63,
   "metadata": {},
   "outputs": [],
   "source": [
    "timestep = 100 \n",
    "X_train, y_train = create_dataset(train_data, timestep)\n",
    "X_test, y_test = create_dataset(test_data, timestep)"
   ]
  },
  {
   "cell_type": "code",
   "execution_count": 64,
   "metadata": {},
   "outputs": [],
   "source": [
    "#converting the data into indepenedanty data into 3 dimension for LSTM nets \n",
    "X_train = X_train.reshape(X_train.shape[0], X_train.shape[1], 1)\n",
    "X_test = X_test.reshape(X_test.shape[0], X_test.shape[1], 1)"
   ]
  },
  {
   "cell_type": "code",
   "execution_count": 65,
   "metadata": {},
   "outputs": [
    {
     "data": {
      "text/plain": [
       "((1132, 100, 1), (1132,), (428, 100, 1), (428,))"
      ]
     },
     "execution_count": 65,
     "metadata": {},
     "output_type": "execute_result"
    }
   ],
   "source": [
    "X_train.shape, y_train.shape, X_test.shape, y_test.shape\n"
   ]
  },
  {
   "cell_type": "code",
   "execution_count": 66,
   "metadata": {},
   "outputs": [
    {
     "data": {
      "text/plain": [
       "(1762, 7)"
      ]
     },
     "execution_count": 66,
     "metadata": {},
     "output_type": "execute_result"
    }
   ],
   "source": [
    "df_oracle.shape"
   ]
  },
  {
   "cell_type": "code",
   "execution_count": 67,
   "metadata": {},
   "outputs": [
    {
     "data": {
      "text/plain": [
       "1560"
      ]
     },
     "execution_count": 67,
     "metadata": {},
     "output_type": "execute_result"
    }
   ],
   "source": [
    "X_train.shape[0] + X_test.shape[0]"
   ]
  },
  {
   "cell_type": "markdown",
   "metadata": {},
   "source": [
    "# Model creation"
   ]
  },
  {
   "cell_type": "code",
   "execution_count": 69,
   "metadata": {},
   "outputs": [],
   "source": [
    "from tensorflow.keras.models import Sequential\n",
    "from tensorflow.keras.layers import Dense, LSTM"
   ]
  },
  {
   "cell_type": "code",
   "execution_count": 70,
   "metadata": {},
   "outputs": [],
   "source": [
    "model=Sequential()\n",
    "model.add(LSTM(50,return_sequences=True,input_shape=(100,1)))\n",
    "model.add(LSTM(50,return_sequences=True))\n",
    "model.add(LSTM(50))\n",
    "model.add(Dense(1, activation = \"linear\"))\n",
    "model.compile(loss='mean_squared_error',optimizer='adam')"
   ]
  },
  {
   "cell_type": "code",
   "execution_count": 71,
   "metadata": {},
   "outputs": [
    {
     "name": "stdout",
     "output_type": "stream",
     "text": [
      "Model: \"sequential\"\n",
      "_________________________________________________________________\n",
      "Layer (type)                 Output Shape              Param #   \n",
      "=================================================================\n",
      "lstm (LSTM)                  (None, 100, 50)           10400     \n",
      "_________________________________________________________________\n",
      "lstm_1 (LSTM)                (None, 100, 50)           20200     \n",
      "_________________________________________________________________\n",
      "lstm_2 (LSTM)                (None, 50)                20200     \n",
      "_________________________________________________________________\n",
      "dense (Dense)                (None, 1)                 51        \n",
      "=================================================================\n",
      "Total params: 50,851\n",
      "Trainable params: 50,851\n",
      "Non-trainable params: 0\n",
      "_________________________________________________________________\n"
     ]
    }
   ],
   "source": [
    "model.summary()"
   ]
  },
  {
   "cell_type": "markdown",
   "metadata": {},
   "source": [
    "# Model  fitting"
   ]
  },
  {
   "cell_type": "code",
   "execution_count": 72,
   "metadata": {
    "collapsed": true
   },
   "outputs": [
    {
     "name": "stdout",
     "output_type": "stream",
     "text": [
      "Epoch 1/100\n",
      "18/18 [==============================] - 2s 127ms/step - loss: 0.0408 - val_loss: 0.0130\n",
      "Epoch 2/100\n",
      "18/18 [==============================] - 1s 79ms/step - loss: 0.0064 - val_loss: 0.0026\n",
      "Epoch 3/100\n",
      "18/18 [==============================] - 1s 81ms/step - loss: 0.0037 - val_loss: 0.0035\n",
      "Epoch 4/100\n",
      "18/18 [==============================] - 1s 81ms/step - loss: 0.0031 - val_loss: 0.0024\n",
      "Epoch 5/100\n",
      "18/18 [==============================] - 1s 80ms/step - loss: 0.0029 - val_loss: 0.0025\n",
      "Epoch 6/100\n",
      "18/18 [==============================] - 1s 80ms/step - loss: 0.0029 - val_loss: 0.0022\n",
      "Epoch 7/100\n",
      "18/18 [==============================] - 1s 80ms/step - loss: 0.0027 - val_loss: 0.0020\n",
      "Epoch 8/100\n",
      "18/18 [==============================] - 2s 84ms/step - loss: 0.0026 - val_loss: 0.0028\n",
      "Epoch 9/100\n",
      "18/18 [==============================] - 2s 84ms/step - loss: 0.0026 - val_loss: 0.0026\n",
      "Epoch 10/100\n",
      "18/18 [==============================] - 2s 84ms/step - loss: 0.0026 - val_loss: 0.0020\n",
      "Epoch 11/100\n",
      "18/18 [==============================] - 1s 82ms/step - loss: 0.0026 - val_loss: 0.0018\n",
      "Epoch 12/100\n",
      "18/18 [==============================] - 2s 87ms/step - loss: 0.0023 - val_loss: 0.0017\n",
      "Epoch 13/100\n",
      "18/18 [==============================] - 1s 81ms/step - loss: 0.0022 - val_loss: 0.0016\n",
      "Epoch 14/100\n",
      "18/18 [==============================] - 1s 81ms/step - loss: 0.0021 - val_loss: 0.0015\n",
      "Epoch 15/100\n",
      "18/18 [==============================] - 2s 87ms/step - loss: 0.0020 - val_loss: 0.0016\n",
      "Epoch 16/100\n",
      "18/18 [==============================] - 2s 83ms/step - loss: 0.0021 - val_loss: 0.0021\n",
      "Epoch 17/100\n",
      "18/18 [==============================] - 2s 88ms/step - loss: 0.0022 - val_loss: 0.0016\n",
      "Epoch 18/100\n",
      "18/18 [==============================] - 2s 87ms/step - loss: 0.0019 - val_loss: 0.0014\n",
      "Epoch 19/100\n",
      "18/18 [==============================] - 1s 82ms/step - loss: 0.0021 - val_loss: 0.0017\n",
      "Epoch 20/100\n",
      "18/18 [==============================] - 1s 81ms/step - loss: 0.0019 - val_loss: 0.0016\n",
      "Epoch 21/100\n",
      "18/18 [==============================] - 1s 81ms/step - loss: 0.0018 - val_loss: 0.0014\n",
      "Epoch 22/100\n",
      "18/18 [==============================] - 1s 80ms/step - loss: 0.0017 - val_loss: 0.0014\n",
      "Epoch 23/100\n",
      "18/18 [==============================] - 2s 88ms/step - loss: 0.0017 - val_loss: 0.0016\n",
      "Epoch 24/100\n",
      "18/18 [==============================] - 1s 82ms/step - loss: 0.0017 - val_loss: 0.0014\n",
      "Epoch 25/100\n",
      "18/18 [==============================] - 1s 81ms/step - loss: 0.0016 - val_loss: 0.0013\n",
      "Epoch 26/100\n",
      "18/18 [==============================] - 1s 81ms/step - loss: 0.0015 - val_loss: 0.0018\n",
      "Epoch 27/100\n",
      "18/18 [==============================] - 1s 82ms/step - loss: 0.0016 - val_loss: 0.0013\n",
      "Epoch 28/100\n",
      "18/18 [==============================] - 1s 83ms/step - loss: 0.0015 - val_loss: 0.0015\n",
      "Epoch 29/100\n",
      "18/18 [==============================] - 1s 82ms/step - loss: 0.0015 - val_loss: 0.0014\n",
      "Epoch 30/100\n",
      "18/18 [==============================] - 2s 86ms/step - loss: 0.0014 - val_loss: 0.0017\n",
      "Epoch 31/100\n",
      "18/18 [==============================] - 2s 87ms/step - loss: 0.0014 - val_loss: 0.0017\n",
      "Epoch 32/100\n",
      "18/18 [==============================] - 2s 86ms/step - loss: 0.0014 - val_loss: 0.0015\n",
      "Epoch 33/100\n",
      "18/18 [==============================] - 1s 82ms/step - loss: 0.0013 - val_loss: 0.0016\n",
      "Epoch 34/100\n",
      "18/18 [==============================] - 2s 83ms/step - loss: 0.0014 - val_loss: 0.0013\n",
      "Epoch 35/100\n",
      "18/18 [==============================] - 1s 82ms/step - loss: 0.0013 - val_loss: 0.0012\n",
      "Epoch 36/100\n",
      "18/18 [==============================] - 2s 85ms/step - loss: 0.0013 - val_loss: 0.0011\n",
      "Epoch 37/100\n",
      "18/18 [==============================] - 2s 85ms/step - loss: 0.0013 - val_loss: 0.0013\n",
      "Epoch 38/100\n",
      "18/18 [==============================] - 2s 84ms/step - loss: 0.0012 - val_loss: 0.0011\n",
      "Epoch 39/100\n",
      "18/18 [==============================] - 2s 85ms/step - loss: 0.0012 - val_loss: 0.0010\n",
      "Epoch 40/100\n",
      "18/18 [==============================] - 1s 82ms/step - loss: 0.0011 - val_loss: 9.9095e-04\n",
      "Epoch 41/100\n",
      "18/18 [==============================] - 1s 82ms/step - loss: 0.0013 - val_loss: 0.0013\n",
      "Epoch 42/100\n",
      "18/18 [==============================] - 2s 86ms/step - loss: 0.0015 - val_loss: 0.0012\n",
      "Epoch 43/100\n",
      "18/18 [==============================] - 2s 84ms/step - loss: 0.0012 - val_loss: 0.0011\n",
      "Epoch 44/100\n",
      "18/18 [==============================] - 1s 83ms/step - loss: 0.0012 - val_loss: 0.0013\n",
      "Epoch 45/100\n",
      "18/18 [==============================] - 1s 83ms/step - loss: 0.0011 - val_loss: 9.4242e-04\n",
      "Epoch 46/100\n",
      "18/18 [==============================] - 2s 85ms/step - loss: 0.0010 - val_loss: 8.8595e-04\n",
      "Epoch 47/100\n",
      "18/18 [==============================] - 2s 86ms/step - loss: 0.0010 - val_loss: 0.0013\n",
      "Epoch 48/100\n",
      "18/18 [==============================] - 1s 81ms/step - loss: 0.0011 - val_loss: 9.8017e-04\n",
      "Epoch 49/100\n",
      "18/18 [==============================] - 2s 122ms/step - loss: 9.9988e-04 - val_loss: 9.1366e-04\n",
      "Epoch 50/100\n",
      "18/18 [==============================] - 2s 113ms/step - loss: 9.8897e-04 - val_loss: 0.0010\n",
      "Epoch 51/100\n",
      "18/18 [==============================] - 2s 87ms/step - loss: 9.2107e-04 - val_loss: 8.5114e-04\n",
      "Epoch 52/100\n",
      "18/18 [==============================] - 1s 80ms/step - loss: 8.9736e-04 - val_loss: 7.7916e-04\n",
      "Epoch 53/100\n",
      "18/18 [==============================] - 2s 92ms/step - loss: 9.0034e-04 - val_loss: 7.5402e-04\n",
      "Epoch 54/100\n",
      "18/18 [==============================] - 2s 84ms/step - loss: 8.8711e-04 - val_loss: 0.0013\n",
      "Epoch 55/100\n",
      "18/18 [==============================] - 2s 86ms/step - loss: 9.5165e-04 - val_loss: 9.5073e-04\n",
      "Epoch 56/100\n",
      "18/18 [==============================] - 2s 92ms/step - loss: 9.1746e-04 - val_loss: 7.6319e-04\n",
      "Epoch 57/100\n",
      "18/18 [==============================] - 1s 80ms/step - loss: 8.9103e-04 - val_loss: 8.2708e-04\n",
      "Epoch 58/100\n",
      "18/18 [==============================] - 1s 82ms/step - loss: 8.4083e-04 - val_loss: 7.3719e-04\n",
      "Epoch 59/100\n",
      "18/18 [==============================] - 1s 79ms/step - loss: 8.7288e-04 - val_loss: 6.9074e-04\n",
      "Epoch 60/100\n",
      "18/18 [==============================] - 2s 88ms/step - loss: 8.0485e-04 - val_loss: 6.6858e-04\n",
      "Epoch 61/100\n",
      "18/18 [==============================] - 1s 83ms/step - loss: 8.6659e-04 - val_loss: 8.7300e-04\n",
      "Epoch 62/100\n",
      "18/18 [==============================] - 1s 82ms/step - loss: 8.0498e-04 - val_loss: 7.3089e-04\n",
      "Epoch 63/100\n",
      "18/18 [==============================] - 1s 82ms/step - loss: 7.8898e-04 - val_loss: 7.3976e-04\n",
      "Epoch 64/100\n",
      "18/18 [==============================] - 1s 83ms/step - loss: 8.4809e-04 - val_loss: 0.0011\n",
      "Epoch 65/100\n",
      "18/18 [==============================] - 1s 82ms/step - loss: 8.3186e-04 - val_loss: 6.3917e-04\n",
      "Epoch 66/100\n",
      "18/18 [==============================] - 1s 83ms/step - loss: 7.2469e-04 - val_loss: 8.0705e-04\n",
      "Epoch 67/100\n",
      "18/18 [==============================] - 1s 83ms/step - loss: 7.9766e-04 - val_loss: 7.2793e-04\n",
      "Epoch 68/100\n",
      "18/18 [==============================] - 1s 83ms/step - loss: 8.4189e-04 - val_loss: 5.8750e-04\n",
      "Epoch 69/100\n",
      "18/18 [==============================] - 2s 87ms/step - loss: 7.7956e-04 - val_loss: 7.0878e-04\n",
      "Epoch 70/100\n",
      "18/18 [==============================] - 2s 84ms/step - loss: 7.0582e-04 - val_loss: 5.7971e-04\n",
      "Epoch 71/100\n",
      "18/18 [==============================] - 1s 81ms/step - loss: 6.9610e-04 - val_loss: 6.1912e-04\n",
      "Epoch 72/100\n",
      "18/18 [==============================] - 2s 88ms/step - loss: 7.4501e-04 - val_loss: 9.1028e-04\n",
      "Epoch 73/100\n",
      "18/18 [==============================] - 2s 84ms/step - loss: 7.0618e-04 - val_loss: 7.5757e-04\n",
      "Epoch 74/100\n",
      "18/18 [==============================] - 2s 84ms/step - loss: 7.4999e-04 - val_loss: 5.8341e-04\n",
      "Epoch 75/100\n",
      "18/18 [==============================] - 1s 82ms/step - loss: 7.2204e-04 - val_loss: 6.0022e-04\n",
      "Epoch 76/100\n",
      "18/18 [==============================] - 1s 83ms/step - loss: 7.1023e-04 - val_loss: 0.0027\n",
      "Epoch 77/100\n",
      "18/18 [==============================] - 1s 82ms/step - loss: 0.0011 - val_loss: 6.3494e-04\n",
      "Epoch 78/100\n",
      "18/18 [==============================] - 1s 83ms/step - loss: 6.9366e-04 - val_loss: 6.1600e-04\n",
      "Epoch 79/100\n",
      "18/18 [==============================] - 2s 90ms/step - loss: 7.1860e-04 - val_loss: 7.8692e-04\n"
     ]
    },
    {
     "name": "stdout",
     "output_type": "stream",
     "text": [
      "Epoch 80/100\n",
      "18/18 [==============================] - 2s 84ms/step - loss: 6.5332e-04 - val_loss: 5.4184e-04\n",
      "Epoch 81/100\n",
      "18/18 [==============================] - 1s 81ms/step - loss: 6.4886e-04 - val_loss: 0.0011\n",
      "Epoch 82/100\n",
      "18/18 [==============================] - 2s 89ms/step - loss: 6.5214e-04 - val_loss: 5.0926e-04\n",
      "Epoch 83/100\n",
      "18/18 [==============================] - 1s 83ms/step - loss: 7.4100e-04 - val_loss: 5.4851e-04\n",
      "Epoch 84/100\n",
      "18/18 [==============================] - 1s 82ms/step - loss: 6.8709e-04 - val_loss: 5.2867e-04\n",
      "Epoch 85/100\n",
      "18/18 [==============================] - 1s 81ms/step - loss: 6.0613e-04 - val_loss: 5.1014e-04\n",
      "Epoch 86/100\n",
      "18/18 [==============================] - 1s 81ms/step - loss: 6.0044e-04 - val_loss: 8.4759e-04\n",
      "Epoch 87/100\n",
      "18/18 [==============================] - 1s 81ms/step - loss: 5.8376e-04 - val_loss: 4.9470e-04\n",
      "Epoch 88/100\n",
      "18/18 [==============================] - 1s 81ms/step - loss: 5.5425e-04 - val_loss: 6.3973e-04\n",
      "Epoch 89/100\n",
      "18/18 [==============================] - 1s 82ms/step - loss: 6.1006e-04 - val_loss: 4.9546e-04\n",
      "Epoch 90/100\n",
      "18/18 [==============================] - 1s 82ms/step - loss: 5.4374e-04 - val_loss: 6.4287e-04\n",
      "Epoch 91/100\n",
      "18/18 [==============================] - 2s 85ms/step - loss: 5.4593e-04 - val_loss: 4.9355e-04\n",
      "Epoch 92/100\n",
      "18/18 [==============================] - 2s 84ms/step - loss: 6.7535e-04 - val_loss: 0.0028\n",
      "Epoch 93/100\n",
      "18/18 [==============================] - 2s 89ms/step - loss: 8.8265e-04 - val_loss: 4.8214e-04\n",
      "Epoch 94/100\n",
      "18/18 [==============================] - 2s 83ms/step - loss: 7.4781e-04 - val_loss: 0.0012\n",
      "Epoch 95/100\n",
      "18/18 [==============================] - 2s 90ms/step - loss: 7.1657e-04 - val_loss: 8.3573e-04\n",
      "Epoch 96/100\n",
      "18/18 [==============================] - 1s 82ms/step - loss: 5.9148e-04 - val_loss: 6.2238e-04\n",
      "Epoch 97/100\n",
      "18/18 [==============================] - 2s 83ms/step - loss: 5.3923e-04 - val_loss: 4.8358e-04\n",
      "Epoch 98/100\n",
      "18/18 [==============================] - 1s 82ms/step - loss: 5.6782e-04 - val_loss: 0.0010\n",
      "Epoch 99/100\n",
      "18/18 [==============================] - 1s 83ms/step - loss: 6.5545e-04 - val_loss: 6.1217e-04\n",
      "Epoch 100/100\n",
      "18/18 [==============================] - 1s 82ms/step - loss: 6.3250e-04 - val_loss: 0.0012\n"
     ]
    },
    {
     "data": {
      "text/plain": [
       "<tensorflow.python.keras.callbacks.History at 0x282abf6b188>"
      ]
     },
     "execution_count": 72,
     "metadata": {},
     "output_type": "execute_result"
    }
   ],
   "source": [
    "model.fit(X_train, y_train, validation_data = (X_test , y_test),epochs=100, batch_size = 64, verbose = 1)"
   ]
  },
  {
   "cell_type": "markdown",
   "metadata": {},
   "source": [
    "# Saving the Model"
   ]
  },
  {
   "cell_type": "code",
   "execution_count": 73,
   "metadata": {},
   "outputs": [
    {
     "name": "stdout",
     "output_type": "stream",
     "text": [
      "WARNING:tensorflow:From C:\\Users\\LENOVO\\anaconda3\\lib\\site-packages\\tensorflow\\python\\ops\\resource_variable_ops.py:1817: calling BaseResourceVariable.__init__ (from tensorflow.python.ops.resource_variable_ops) with constraint is deprecated and will be removed in a future version.\n",
      "Instructions for updating:\n",
      "If using Keras pass *_constraint arguments to layers.\n",
      "INFO:tensorflow:Assets written to: model\\assets\n"
     ]
    }
   ],
   "source": [
    "model.save('model')\n",
    "model.save(\"model/model.h5\")"
   ]
  },
  {
   "cell_type": "markdown",
   "metadata": {},
   "source": [
    "# Test  data prediction\n"
   ]
  },
  {
   "cell_type": "code",
   "execution_count": 74,
   "metadata": {},
   "outputs": [],
   "source": [
    "train_predict = model.predict(X_train)\n",
    "test_predict = model.predict(X_test)"
   ]
  },
  {
   "cell_type": "markdown",
   "metadata": {},
   "source": [
    "# Scaling data to original values"
   ]
  },
  {
   "cell_type": "code",
   "execution_count": 75,
   "metadata": {},
   "outputs": [],
   "source": [
    "train_predict = scaler.inverse_transform(train_predict)\n",
    "test_predict = scaler.inverse_transform(test_predict)"
   ]
  },
  {
   "cell_type": "code",
   "execution_count": 76,
   "metadata": {},
   "outputs": [],
   "source": [
    "test_predict = [i[0] for i in test_predict]\n",
    "train_predict = [i[0] for i in train_predict]"
   ]
  },
  {
   "cell_type": "code",
   "execution_count": 77,
   "metadata": {},
   "outputs": [],
   "source": [
    "# computing the validation score"
   ]
  },
  {
   "cell_type": "code",
   "execution_count": 78,
   "metadata": {},
   "outputs": [
    {
     "data": {
      "text/plain": [
       "31.935114583766264"
      ]
     },
     "execution_count": 78,
     "metadata": {},
     "output_type": "execute_result"
    }
   ],
   "source": [
    "# calculating the rmse value \n",
    "import math\n",
    "from sklearn.metrics import mean_squared_error\n",
    "math.sqrt(mean_squared_error(y_train, train_predict))"
   ]
  },
  {
   "cell_type": "markdown",
   "metadata": {},
   "source": [
    "# Plotting the Prdicted vs actual closing values"
   ]
  },
  {
   "cell_type": "code",
   "execution_count": 80,
   "metadata": {},
   "outputs": [
    {
     "data": {
      "text/plain": [
       "<matplotlib.axes._subplots.AxesSubplot at 0x282d1368ec8>"
      ]
     },
     "execution_count": 80,
     "metadata": {},
     "output_type": "execute_result"
    },
    {
     "data": {
      "image/png": "[encoded data removed]",
      "text/plain": [
       "<Figure size 432x288 with 1 Axes>"
      ]
     },
     "metadata": {
      "needs_background": "light"
     },
     "output_type": "display_data"
    }
   ],
   "source": [
    "df_plot = pd.DataFrame({\"date\" : df_oracle[\"date\"], \"closing_value\" : df_oracle[\"close\"]})\n",
    "predict_data = np.array([None] * 101 + train_predict + [None] * 101 + test_predict)\n",
    "predict_data = np.array(predict_data, dtype = float)\n",
    "predict_data = np.ma.masked_where(predict_data == None, predict_data)\n",
    "df_plot[\"predict_data\"] = predict_data\n",
    "df_plot_melt = pd.melt(df_plot, id_vars = [\"date\"], \n",
    "                       value_vars = [\"closing_value\", \"predict_data\"])\n",
    "# df_plot_melt.dropna(inplace = True) \n",
    "sns.lineplot(x = \"date\", y = \"value\", \n",
    "             hue = \"variable\",palette=\"ch:2.5,.25\",\n",
    "             data = df_plot_melt.dropna())"
   ]
  },
  {
   "cell_type": "code",
   "execution_count": null,
   "metadata": {},
   "outputs": [],
   "source": []
  }
 ],
 "metadata": {
  "kernelspec": {
   "display_name": "Python 3",
   "language": "python",
   "name": "python3"
  },
  "language_info": {
   "codemirror_mode": {
    "name": "ipython",
    "version": 3
   },
   "file_extension": ".py",
   "mimetype": "text/x-python",
   "name": "python",
   "nbconvert_exporter": "python",
   "pygments_lexer": "ipython3",
   "version": "3.7.6"
  }
 },
 "nbformat": 4,
 "nbformat_minor": 4
}
